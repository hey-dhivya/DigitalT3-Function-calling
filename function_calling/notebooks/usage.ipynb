{
 "cells": [
  {
   "cell_type": "code",
   "execution_count": 1,
   "metadata": {},
   "outputs": [],
   "source": [
    "import os\n",
    "import sys\n",
    "\n",
    "current_dir = os.getcwd()\n",
    "kit_dir = os.path.abspath(os.path.join(current_dir, '..'))\n",
    "repo_dir = os.path.abspath(os.path.join(kit_dir, '..'))\n",
    "\n",
    "sys.path.append(kit_dir)\n",
    "sys.path.append(repo_dir)"
   ]
  },
  {
   "cell_type": "code",
   "execution_count": 2,
   "metadata": {},
   "outputs": [],
   "source": [
    "from function_calling.src.function_calling import FunctionCallingLlm\n",
    "from function_calling.src.tools import get_time, calculator, python_repl, query_db"
   ]
  },
  {
   "cell_type": "code",
   "execution_count": 3,
   "metadata": {},
   "outputs": [],
   "source": [
    "tools = [get_time, calculator, python_repl, query_db]"
   ]
  },
  {
   "cell_type": "code",
   "execution_count": 4,
   "metadata": {},
   "outputs": [],
   "source": [
    "fc = FunctionCallingLlm(tools)"
   ]
  },
  {
   "cell_type": "code",
   "execution_count": 5,
   "metadata": {},
   "outputs": [
    {
     "name": "stdout",
     "output_type": "stream",
     "text": [
      "[SystemMessage(content='you are an helpful assistant and you have access to the following tools:\\n\\n{\\n  \"name\": \"get_time\",\\n  \"description\": \"Returns current date, current time or both.\",\\n  \"properties\": {\\n    \"kind\": {\\n      \"title\": \"Kind\",\\n      \"description\": \"kind of information to retrieve \\\\\"date\\\\\", \\\\\"time\\\\\" or \\\\\"both\\\\\"\",\\n      \"type\": \"string\"\\n    }\\n  }\\n}\\n{\\n  \"name\": \"calculator\",\\n  \"description\": \"allow calculation of only basic operations: + - * and /\\\\nwith a string input expression\",\\n  \"properties\": {\\n    \"expression\": {\\n      \"title\": \"Expression\",\\n      \"description\": \"expression to calculate, example \\'12 * 3\\'\",\\n      \"type\": \"string\"\\n    }\\n  }\\n}\\n{\\n  \"name\": \"python_repl\",\\n  \"description\": \"A Python shell. Use this to execute python commands. Input should be a valid python commands and expressions. If you want to see the output of a value, you should print it out with `print(...)`, if you need a specific module you should import it.\",\\n  \"properties\": {\\n    \"command\": {\\n      \"title\": \"Command\",\\n      \"description\": \"python code to evaluate\",\\n      \"type\": \"string\"\\n    }\\n  }\\n}\\n{\\n  \"name\": \"query_db\",\\n  \"description\": \"A query generation tool. Use this to generate sql queries and retrieve the results from a database. Do not pass sql queries directly. Input must be a natural language question or instruction.\",\\n  \"properties\": {\\n    \"query\": {\\n      \"title\": \"Query\",\\n      \"description\": \"natural language question or instruction.\",\\n      \"type\": \"string\"\\n    }\\n  }\\n}\\n{\\n  \"name\": \"ConversationalResponse\",\\n  \"description\": \"Respond conversationally only if no other tools should be called for a given query, or if you have a final answer. response must be in the same language as the user query\",\\n  \"properties\": {\\n    \"response\": {\\n      \"title\": \"Response\",\\n      \"description\": \"Conversational response to the user. must be in the same language as the user query\",\\n      \"type\": \"string\"\\n    }\\n  }\\n}\\n\\nYou must always select one or more of the above tools and answer with only a list of JSON objects matching the following schema:\\n\\n```json\\n[{\\n  \"tool\": <name of the selected tool>,\\n  \"tool_input\": <parameters for the selected tool, matching the tool\\'s JSON schema>\\n}]\\n```\\n\\nThink step by step\\nDo not call a tool if the input depends on another tool output that you do not have yet.\\nDo not try to answer until you get all the tools output, if you do not have an answer yet, you can continue calling tools until you do.\\nYour answer should be in the same language as the initial query.\\n\\n'),\n",
      " HumanMessage(content='hi'),\n",
      " AIMessage(content=' \\n\\n[{\\n  \"tool\": \"ConversationalResponse\",\\n  \"tool_input\": {\\n    \"response\": \"Hi! How can I assist you today?\"\\n  }\\n}]')]\n"
     ]
    },
    {
     "data": {
      "text/plain": [
       "'Hi! How can I assist you today?'"
      ]
     },
     "execution_count": 5,
     "metadata": {},
     "output_type": "execute_result"
    }
   ],
   "source": [
    "fc.function_call_llm('hi', debug=True)"
   ]
  },
  {
   "cell_type": "code",
   "execution_count": 6,
   "metadata": {},
   "outputs": [
    {
     "name": "stderr",
     "output_type": "stream",
     "text": [
      "Python REPL can execute arbitrary code. Use with caution.\n"
     ]
    },
    {
     "name": "stdout",
     "output_type": "stream",
     "text": [
      "[SystemMessage(content='you are an helpful assistant and you have access to the following tools:\\n\\n{\\n  \"name\": \"get_time\",\\n  \"description\": \"Returns current date, current time or both.\",\\n  \"properties\": {\\n    \"kind\": {\\n      \"title\": \"Kind\",\\n      \"description\": \"kind of information to retrieve \\\\\"date\\\\\", \\\\\"time\\\\\" or \\\\\"both\\\\\"\",\\n      \"type\": \"string\"\\n    }\\n  }\\n}\\n{\\n  \"name\": \"calculator\",\\n  \"description\": \"allow calculation of only basic operations: + - * and /\\\\nwith a string input expression\",\\n  \"properties\": {\\n    \"expression\": {\\n      \"title\": \"Expression\",\\n      \"description\": \"expression to calculate, example \\'12 * 3\\'\",\\n      \"type\": \"string\"\\n    }\\n  }\\n}\\n{\\n  \"name\": \"python_repl\",\\n  \"description\": \"A Python shell. Use this to execute python commands. Input should be a valid python commands and expressions. If you want to see the output of a value, you should print it out with `print(...)`, if you need a specific module you should import it.\",\\n  \"properties\": {\\n    \"command\": {\\n      \"title\": \"Command\",\\n      \"description\": \"python code to evaluate\",\\n      \"type\": \"string\"\\n    }\\n  }\\n}\\n{\\n  \"name\": \"query_db\",\\n  \"description\": \"A query generation tool. Use this to generate sql queries and retrieve the results from a database. Do not pass sql queries directly. Input must be a natural language question or instruction.\",\\n  \"properties\": {\\n    \"query\": {\\n      \"title\": \"Query\",\\n      \"description\": \"natural language question or instruction.\",\\n      \"type\": \"string\"\\n    }\\n  }\\n}\\n{\\n  \"name\": \"ConversationalResponse\",\\n  \"description\": \"Respond conversationally only if no other tools should be called for a given query, or if you have a final answer. response must be in the same language as the user query\",\\n  \"properties\": {\\n    \"response\": {\\n      \"title\": \"Response\",\\n      \"description\": \"Conversational response to the user. must be in the same language as the user query\",\\n      \"type\": \"string\"\\n    }\\n  }\\n}\\n\\nYou must always select one or more of the above tools and answer with only a list of JSON objects matching the following schema:\\n\\n```json\\n[{\\n  \"tool\": <name of the selected tool>,\\n  \"tool_input\": <parameters for the selected tool, matching the tool\\'s JSON schema>\\n}]\\n```\\n\\nThink step by step\\nDo not call a tool if the input depends on another tool output that you do not have yet.\\nDo not try to answer until you get all the tools output, if you do not have an answer yet, you can continue calling tools until you do.\\nYour answer should be in the same language as the initial query.\\n\\n'),\n",
      " HumanMessage(content=\"sort this list of elements alphabetically ['screwdriver', 'pliers', 'hammer']\"),\n",
      " AIMessage(content=' \\n\\n[{\\n  \"tool\": \"python_repl\",\\n  \"tool_input\": {\\n    \"command\": \"print(sorted([\\'screwdriver\\', \\'pliers\\', \\'hammer\\']))\"\\n  }\\n}]'),\n",
      " ToolMessage(content=\"Tool 'python_repl'response: ['hammer', 'pliers', 'screwdriver']\\n\", tool_call_id='0'),\n",
      " AIMessage(content='  \\n\\n[{\\n  \"tool\": \"ConversationalResponse\",\\n  \"tool_input\": {\\n    \"response\": \"The sorted list is: hammer, pliers, screwdriver\"\\n  }\\n}]')]\n"
     ]
    },
    {
     "data": {
      "text/plain": [
       "'The sorted list is: hammer, pliers, screwdriver'"
      ]
     },
     "execution_count": 6,
     "metadata": {},
     "output_type": "execute_result"
    }
   ],
   "source": [
    "fc.function_call_llm(\"sort this list of elements alphabetically ['screwdriver', 'pliers', 'hammer']\", debug=True)"
   ]
  },
  {
   "cell_type": "code",
   "execution_count": 7,
   "metadata": {},
   "outputs": [
    {
     "name": "stdout",
     "output_type": "stream",
     "text": [
      "[SystemMessage(content='you are an helpful assistant and you have access to the following tools:\\n\\n{\\n  \"name\": \"get_time\",\\n  \"description\": \"Returns current date, current time or both.\",\\n  \"properties\": {\\n    \"kind\": {\\n      \"title\": \"Kind\",\\n      \"description\": \"kind of information to retrieve \\\\\"date\\\\\", \\\\\"time\\\\\" or \\\\\"both\\\\\"\",\\n      \"type\": \"string\"\\n    }\\n  }\\n}\\n{\\n  \"name\": \"calculator\",\\n  \"description\": \"allow calculation of only basic operations: + - * and /\\\\nwith a string input expression\",\\n  \"properties\": {\\n    \"expression\": {\\n      \"title\": \"Expression\",\\n      \"description\": \"expression to calculate, example \\'12 * 3\\'\",\\n      \"type\": \"string\"\\n    }\\n  }\\n}\\n{\\n  \"name\": \"python_repl\",\\n  \"description\": \"A Python shell. Use this to execute python commands. Input should be a valid python commands and expressions. If you want to see the output of a value, you should print it out with `print(...)`, if you need a specific module you should import it.\",\\n  \"properties\": {\\n    \"command\": {\\n      \"title\": \"Command\",\\n      \"description\": \"python code to evaluate\",\\n      \"type\": \"string\"\\n    }\\n  }\\n}\\n{\\n  \"name\": \"query_db\",\\n  \"description\": \"A query generation tool. Use this to generate sql queries and retrieve the results from a database. Do not pass sql queries directly. Input must be a natural language question or instruction.\",\\n  \"properties\": {\\n    \"query\": {\\n      \"title\": \"Query\",\\n      \"description\": \"natural language question or instruction.\",\\n      \"type\": \"string\"\\n    }\\n  }\\n}\\n{\\n  \"name\": \"ConversationalResponse\",\\n  \"description\": \"Respond conversationally only if no other tools should be called for a given query, or if you have a final answer. response must be in the same language as the user query\",\\n  \"properties\": {\\n    \"response\": {\\n      \"title\": \"Response\",\\n      \"description\": \"Conversational response to the user. must be in the same language as the user query\",\\n      \"type\": \"string\"\\n    }\\n  }\\n}\\n\\nYou must always select one or more of the above tools and answer with only a list of JSON objects matching the following schema:\\n\\n```json\\n[{\\n  \"tool\": <name of the selected tool>,\\n  \"tool_input\": <parameters for the selected tool, matching the tool\\'s JSON schema>\\n}]\\n```\\n\\nThink step by step\\nDo not call a tool if the input depends on another tool output that you do not have yet.\\nDo not try to answer until you get all the tools output, if you do not have an answer yet, you can continue calling tools until you do.\\nYour answer should be in the same language as the initial query.\\n\\n'),\n",
      " HumanMessage(content='cuantos dias faltan para navidad?'),\n",
      " AIMessage(content=' \\n[{\\n  \"tool\": \"get_time\",\\n  \"tool_input\": {\\n    \"kind\": \"date\"\\n  }\\n}]'),\n",
      " ToolMessage(content=\"Tool 'get_time'response: Current date: 26/06/2024\", tool_call_id='0'),\n",
      " AIMessage(content='  \\n[{\\n  \"tool\": \"python_repl\",\\n  \"tool_input\": {\\n    \"command\": \"from datetime import date; christmas = date(2024, 12, 25); today = date.today(); print((christmas - today).days)\"\\n  }\\n}]'),\n",
      " ToolMessage(content=\"Tool 'python_repl'response: 182\\n\", tool_call_id='1'),\n",
      " AIMessage(content='  \\n[{\\n  \"tool\": \"ConversationalResponse\",\\n  \"tool_input\": {\\n    \"response\": \"Faltan 182 días para Navidad.\"\\n  }\\n}]')]\n"
     ]
    },
    {
     "data": {
      "text/plain": [
       "'Faltan 182 días para Navidad.'"
      ]
     },
     "execution_count": 7,
     "metadata": {},
     "output_type": "execute_result"
    }
   ],
   "source": [
    "fc.function_call_llm('cuantos dias faltan para navidad?', debug=True)"
   ]
  },
  {
   "cell_type": "code",
   "execution_count": 9,
   "metadata": {},
   "outputs": [
    {
     "name": "stdout",
     "output_type": "stream",
     "text": [
      "[SystemMessage(content='you are an helpful assistant and you have access to the following tools:\\n\\n{\\n  \"name\": \"get_time\",\\n  \"description\": \"Returns current date, current time or both.\",\\n  \"properties\": {\\n    \"kind\": {\\n      \"title\": \"Kind\",\\n      \"description\": \"kind of information to retrieve \\\\\"date\\\\\", \\\\\"time\\\\\" or \\\\\"both\\\\\"\",\\n      \"type\": \"string\"\\n    }\\n  }\\n}\\n{\\n  \"name\": \"calculator\",\\n  \"description\": \"allow calculation of only basic operations: + - * and /\\\\nwith a string input expression\",\\n  \"properties\": {\\n    \"expression\": {\\n      \"title\": \"Expression\",\\n      \"description\": \"expression to calculate, example \\'12 * 3\\'\",\\n      \"type\": \"string\"\\n    }\\n  }\\n}\\n{\\n  \"name\": \"python_repl\",\\n  \"description\": \"A Python shell. Use this to execute python commands. Input should be a valid python commands and expressions. If you want to see the output of a value, you should print it out with `print(...)`, if you need a specific module you should import it.\",\\n  \"properties\": {\\n    \"command\": {\\n      \"title\": \"Command\",\\n      \"description\": \"python code to evaluate\",\\n      \"type\": \"string\"\\n    }\\n  }\\n}\\n{\\n  \"name\": \"query_db\",\\n  \"description\": \"A query generation tool. Use this to generate sql queries and retrieve the results from a database. Do not pass sql queries directly. Input must be a natural language question or instruction.\",\\n  \"properties\": {\\n    \"query\": {\\n      \"title\": \"Query\",\\n      \"description\": \"natural language question or instruction.\",\\n      \"type\": \"string\"\\n    }\\n  }\\n}\\n{\\n  \"name\": \"ConversationalResponse\",\\n  \"description\": \"Respond conversationally only if no other tools should be called for a given query, or if you have a final answer. response must be in the same language as the user query\",\\n  \"properties\": {\\n    \"response\": {\\n      \"title\": \"Response\",\\n      \"description\": \"Conversational response to the user. must be in the same language as the user query\",\\n      \"type\": \"string\"\\n    }\\n  }\\n}\\n\\nYou must always select one or more of the above tools and answer with only a list of JSON objects matching the following schema:\\n\\n```json\\n[{\\n  \"tool\": <name of the selected tool>,\\n  \"tool_input\": <parameters for the selected tool, matching the tool\\'s JSON schema>\\n}]\\n```\\n\\nThink step by step\\nDo not call a tool if the input depends on another tool output that you do not have yet.\\nDo not try to answer until you get all the tools output, if you do not have an answer yet, you can continue calling tools until you do.\\nYour answer should be in the same language as the initial query.\\n\\n'),\n",
      " HumanMessage(content='What is the name of the customer who has bought the most items, and how many items?'),\n",
      " AIMessage(content=' \\n[{\\n  \"tool\": \"query_db\",\\n  \"tool_input\": {\\n    \"query\": \"What is the name of the customer who has bought the most items, and how many items?\"\\n  }\\n}]'),\n",
      " ToolMessage(content=\"Tool 'query_db'response: Query SELECT c.FirstName, COUNT(i.InvoiceId) AS TotalItems\\nFROM customers c\\nJOIN invoices i ON c.CustomerId = i.CustomerId\\nGROUP BY c.CustomerId, c.FirstName\\nORDER BY TotalItems DESC\\nLIMIT 1; executed with result [('Luís', 7)]\", tool_call_id='0'),\n",
      " AIMessage(content='  \\n[{\\n  \"tool\": \"ConversationalResponse\",\\n  \"tool_input\": {\\n    \"response\": \"The customer who has bought the most items is Luís, with a total of 7 items.\"\\n  }\\n}]')]\n"
     ]
    },
    {
     "data": {
      "text/plain": [
       "'The customer who has bought the most items is Luís, with a total of 7 items.'"
      ]
     },
     "execution_count": 9,
     "metadata": {},
     "output_type": "execute_result"
    }
   ],
   "source": [
    "fc.function_call_llm('What is the name of the customer who has bought the most items, and how many items?', debug=True)"
   ]
  },
  {
   "cell_type": "code",
   "execution_count": null,
   "metadata": {},
   "outputs": [],
   "source": []
  }
 ],
 "metadata": {
  "kernelspec": {
   "display_name": "fcenv",
   "language": "python",
   "name": "python3"
  },
  "language_info": {
   "codemirror_mode": {
    "name": "ipython",
    "version": 3
   },
   "file_extension": ".py",
   "mimetype": "text/x-python",
   "name": "python",
   "nbconvert_exporter": "python",
   "pygments_lexer": "ipython3",
   "version": "3.10.11"
  }
 },
 "nbformat": 4,
 "nbformat_minor": 2
}
